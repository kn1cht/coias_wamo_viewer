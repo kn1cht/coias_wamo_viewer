{
 "cells": [
  {
   "cell_type": "code",
   "execution_count": 1,
   "metadata": {},
   "outputs": [],
   "source": [
    "%load_ext autoreload\n",
    "%autoreload 2\n"
   ]
  },
  {
   "cell_type": "code",
   "execution_count": 2,
   "metadata": {},
   "outputs": [],
   "source": [
    "import numpy as np\n",
    "import os\n",
    "import pandas as pd\n",
    "\n",
    "from wamo_util import *\n",
    "\n",
    "pd.set_option('display.unicode.east_asian_width', True)\n"
   ]
  },
  {
   "cell_type": "code",
   "execution_count": 3,
   "metadata": {},
   "outputs": [
    {
     "name": "stdout",
     "output_type": "stream",
     "text": [
      "gathering files...\n",
      "found 143\n"
     ]
    }
   ],
   "source": [
    "file_array = search_send_mpc(os.getcwd())\n",
    "combined_obs = ''\n",
    "for file_path in file_array:\n",
    "    combined_obs += extract_obs(file_path)\n",
    "\n",
    "combined_obs = combined_obs.replace('\\n\\n', '\\n')\n",
    "personal_obs = [line for line in combined_obs.split('\\n') if len(line) >= 6 and line[5] == 'H']\n",
    "sorted_personal_obs = sorted(personal_obs, key=lambda x: (x[:12], x[14:]))\n",
    "provisional_obs = [line for line in combined_obs.split('\\n') if len(line) >= 6 and line[5] != 'H' and line[5] != ' ']\n",
    "sorted_provisional_obs = sorted(provisional_obs, key=lambda x: (x[:12], x[14:]))\n",
    "numbered_obs = [line for line in combined_obs.split('\\n') if len(line) >= 5 and line[0] != ' ']\n",
    "sorted_numbered_obs = sorted(numbered_obs, key=lambda x: (x[:5], x[14:]))\n",
    "\n",
    "sorted_personal_obs_arr = np.array(sorted_personal_obs)\n",
    "sorted_personal_obs_solos = sorted_personal_obs_arr[np.char.find(sorted_personal_obs_arr, '*') >= 0]\n",
    "\n",
    "unique_set = set()\n",
    "sorted_personal_obs_solos_unique = []\n",
    "for obs in sorted_personal_obs_solos:\n",
    "    if obs[:12] not in unique_set:\n",
    "        unique_set.add(obs[:12])\n",
    "        sorted_personal_obs_solos_unique.append(obs)\n"
   ]
  },
  {
   "cell_type": "code",
   "execution_count": 4,
   "metadata": {},
   "outputs": [
    {
     "name": "stdout",
     "output_type": "stream",
     "text": [
      "sending requests to WAMO: 0 to 99\n",
      "sending requests to WAMO: 100 to 199\n",
      "sending requests to WAMO: 200 to 299\n",
      "sending requests to WAMO: 300 to 350\n",
      "WAMO request finished!\n",
      "found 351\n",
      "not found 0\n"
     ]
    }
   ],
   "source": [
    "candidate_df = pd.DataFrame(wamo_request_batch(sorted_personal_obs_solos_unique))\n"
   ]
  },
  {
   "cell_type": "code",
   "execution_count": 5,
   "metadata": {},
   "outputs": [],
   "source": [
    "candidate_df['original_desig'] = [ob[5:13] for ob in sorted_personal_obs_solos_unique]\n",
    "candidate_P_df = candidate_df[candidate_df.status == 'P'].sort_values('iau_desig').copy()\n",
    "candidate_P_df = add_asterisk_column_to_result_df(candidate_P_df)\n",
    "candidate_P_df = add_designation_type_column_to_result_df(candidate_P_df)\n",
    "candidate_P_provisional_df = candidate_P_df[candidate_P_df['designation_type'] == 'provisional']\n",
    "candidate_P_numbered_df = candidate_P_df[candidate_P_df['designation_type'] == 'numbered']\n",
    "\n",
    "candidate_p_df = candidate_df[candidate_df.status == 'p'].sort_values('iau_desig').copy()\n",
    "candidate_p_df = add_asterisk_column_to_result_df(candidate_p_df)\n",
    "candidate_p_df = add_designation_type_column_to_result_df(candidate_p_df)\n",
    "candidate_p_provisional_df = candidate_p_df[candidate_p_df['designation_type'] == 'provisional']\n",
    "candidate_p_numbered_df = candidate_p_df[candidate_p_df['designation_type'] == 'numbered']\n",
    "\n",
    "candidate_I_df = candidate_df[candidate_df.status == 'I'].copy()\n"
   ]
  },
  {
   "cell_type": "code",
   "execution_count": 6,
   "metadata": {},
   "outputs": [
    {
     "name": "stdout",
     "output_type": "stream",
     "text": [
      "【全体統計】\n"
     ]
    },
    {
     "data": {
      "text/html": [
       "<div>\n",
       "<style scoped>\n",
       "    .dataframe tbody tr th:only-of-type {\n",
       "        vertical-align: middle;\n",
       "    }\n",
       "\n",
       "    .dataframe tbody tr th {\n",
       "        vertical-align: top;\n",
       "    }\n",
       "\n",
       "    .dataframe thead th {\n",
       "        text-align: right;\n",
       "    }\n",
       "</style>\n",
       "<table border=\"1\" class=\"dataframe\">\n",
       "  <thead>\n",
       "    <tr style=\"text-align: right;\">\n",
       "      <th></th>\n",
       "      <th>カテゴリ</th>\n",
       "      <th>観測数</th>\n",
       "      <th>天体数</th>\n",
       "    </tr>\n",
       "  </thead>\n",
       "  <tbody>\n",
       "    <tr>\n",
       "      <th>0</th>\n",
       "      <td>新天体候補</td>\n",
       "      <td>1551</td>\n",
       "      <td>351</td>\n",
       "    </tr>\n",
       "    <tr>\n",
       "      <th>1</th>\n",
       "      <td>仮符号天体</td>\n",
       "      <td>478</td>\n",
       "      <td>100</td>\n",
       "    </tr>\n",
       "    <tr>\n",
       "      <th>2</th>\n",
       "      <td>確定番号天体</td>\n",
       "      <td>591</td>\n",
       "      <td>131</td>\n",
       "    </tr>\n",
       "  </tbody>\n",
       "</table>\n",
       "</div>"
      ],
      "text/plain": [
       "       カテゴリ  観測数  天体数\n",
       "0    新天体候補    1551     351\n",
       "1    仮符号天体     478     100\n",
       "2  確定番号天体     591     131"
      ]
     },
     "execution_count": 6,
     "metadata": {},
     "output_type": "execute_result"
    }
   ],
   "source": [
    "obs_by_types_arr = np.array([sorted_personal_obs, sorted_provisional_obs, sorted_numbered_obs], dtype=object)\n",
    "print('【全体統計】')\n",
    "pd.DataFrame({\n",
    "    'カテゴリ': ['新天体候補', '仮符号天体', '確定番号天体'],\n",
    "    '観測数': np.vectorize(len)(obs_by_types_arr),\n",
    "    '天体数': np.vectorize(count_uniques)(obs_by_types_arr),\n",
    "})\n"
   ]
  },
  {
   "cell_type": "code",
   "execution_count": 7,
   "metadata": {},
   "outputs": [
    {
     "name": "stdout",
     "output_type": "stream",
     "text": [
      "【新天体候補の統計】\n"
     ]
    },
    {
     "data": {
      "text/html": [
       "<div>\n",
       "<style scoped>\n",
       "    .dataframe tbody tr th:only-of-type {\n",
       "        vertical-align: middle;\n",
       "    }\n",
       "\n",
       "    .dataframe tbody tr th {\n",
       "        vertical-align: top;\n",
       "    }\n",
       "\n",
       "    .dataframe thead th {\n",
       "        text-align: right;\n",
       "    }\n",
       "</style>\n",
       "<table border=\"1\" class=\"dataframe\">\n",
       "  <thead>\n",
       "    <tr style=\"text-align: right;\">\n",
       "      <th></th>\n",
       "      <th>カテゴリ</th>\n",
       "      <th>公開前</th>\n",
       "      <th>公開済</th>\n",
       "    </tr>\n",
       "  </thead>\n",
       "  <tbody>\n",
       "    <tr>\n",
       "      <th>0</th>\n",
       "      <td>Isolated Tracklet File (ITF)</td>\n",
       "      <td>317</td>\n",
       "      <td>0</td>\n",
       "    </tr>\n",
       "    <tr>\n",
       "      <th>1</th>\n",
       "      <td>仮符号（アスタリスク付）</td>\n",
       "      <td>0</td>\n",
       "      <td>5</td>\n",
       "    </tr>\n",
       "    <tr>\n",
       "      <th>2</th>\n",
       "      <td>仮符号（アスタリスクなし）</td>\n",
       "      <td>1</td>\n",
       "      <td>25</td>\n",
       "    </tr>\n",
       "    <tr>\n",
       "      <th>3</th>\n",
       "      <td>確定番号（アスタリスク付）</td>\n",
       "      <td>0</td>\n",
       "      <td>0</td>\n",
       "    </tr>\n",
       "    <tr>\n",
       "      <th>4</th>\n",
       "      <td>確定番号（アスタリスクなし）</td>\n",
       "      <td>0</td>\n",
       "      <td>3</td>\n",
       "    </tr>\n",
       "  </tbody>\n",
       "</table>\n",
       "</div>"
      ],
      "text/plain": [
       "                       カテゴリ  公開前  公開済\n",
       "0  Isolated Tracklet File (ITF)     317       0\n",
       "1      仮符号（アスタリスク付）       0       5\n",
       "2    仮符号（アスタリスクなし）       1      25\n",
       "3    確定番号（アスタリスク付）       0       0\n",
       "4  確定番号（アスタリスクなし）       0       3"
      ]
     },
     "execution_count": 7,
     "metadata": {},
     "output_type": "execute_result"
    }
   ],
   "source": [
    "candidate_categories = [\n",
    "  'Isolated Tracklet File (ITF)',\n",
    "  '仮符号（アスタリスク付）',\n",
    "  '仮符号（アスタリスクなし）',\n",
    "  '確定番号（アスタリスク付）',\n",
    "  '確定番号（アスタリスクなし）'\n",
    "]\n",
    "unpublished_results_count = [\n",
    "  len(candidate_I_df),\n",
    "  count_asterisk_in_df(candidate_p_provisional_df)['True'],\n",
    "  count_asterisk_in_df(candidate_p_provisional_df)['False'],\n",
    "  count_asterisk_in_df(candidate_p_numbered_df)['True'],\n",
    "  count_asterisk_in_df(candidate_p_numbered_df)['False']\n",
    "]\n",
    "published_results_count = [\n",
    "  0,\n",
    "  count_asterisk_in_df(candidate_P_provisional_df)['True'],\n",
    "  count_asterisk_in_df(candidate_P_provisional_df)['False'],\n",
    "  count_asterisk_in_df(candidate_P_numbered_df)['True'],\n",
    "  count_asterisk_in_df(candidate_P_numbered_df)['False']\n",
    "]\n",
    "\n",
    "print('【新天体候補の統計】')\n",
    "pd.DataFrame({\n",
    "    'カテゴリ': candidate_categories,\n",
    "    '公開前': unpublished_results_count,\n",
    "    '公開済': published_results_count,\n",
    "})\n"
   ]
  },
  {
   "cell_type": "code",
   "execution_count": 8,
   "metadata": {},
   "outputs": [
    {
     "name": "stdout",
     "output_type": "stream",
     "text": [
      "【アスタリスク付天体の詳細（公開済）】\n",
      "   original_desig  iau_desig           ref                     submission_id\n",
      "50       H200503*  2019 WA28  MPS  1973331  2023-07-13T21:02:56.001_0000FE76\n",
      "17       H200066*  2019 WB28  MPS  1973331  2023-07-03T14:42:57.000_0000FDU5\n",
      "47       H200103*  2019 WU27  MPS  1973330  2023-07-05T15:09:58.000_0000FDX1\n",
      "30       H200079*  2019 WV27  MPS  1973330  2023-07-03T15:47:33.001_0000FDUF\n",
      "65       H200518*  2019 WY27  MPS  1973331  2023-07-13T21:44:57.000_0000FE7B\n"
     ]
    }
   ],
   "source": [
    "if len(candidate_P_df[candidate_P_df['asterisk']]):\n",
    "    print('【アスタリスク付天体の詳細（公開済）】')\n",
    "    print(candidate_P_df[candidate_P_df['asterisk']][['original_desig', 'iau_desig', 'ref', 'submission_id']])\n"
   ]
  },
  {
   "cell_type": "code",
   "execution_count": 9,
   "metadata": {},
   "outputs": [],
   "source": [
    "if len(candidate_p_df[candidate_p_df['asterisk']]):\n",
    "    print('【アスタリスク付天体の詳細（公開前）】')\n",
    "    print(candidate_p_df[candidate_p_df['asterisk']][['original_desig', 'iau_desig', 'ref', 'submission_id']])\n"
   ]
  },
  {
   "cell_type": "code",
   "execution_count": null,
   "metadata": {},
   "outputs": [],
   "source": []
  }
 ],
 "metadata": {
  "kernelspec": {
   "display_name": "Python 3",
   "language": "python",
   "name": "python3"
  },
  "language_info": {
   "codemirror_mode": {
    "name": "ipython",
    "version": 3
   },
   "file_extension": ".py",
   "mimetype": "text/x-python",
   "name": "python",
   "nbconvert_exporter": "python",
   "pygments_lexer": "ipython3",
   "version": "3.9.13"
  }
 },
 "nbformat": 4,
 "nbformat_minor": 2
}
